{
  "nbformat": 4,
  "nbformat_minor": 0,
  "metadata": {
    "colab": {
      "name": "timeseries-forecasting -3 weather prediction.ipynb",
      "provenance": [],
      "toc_visible": true,
      "authorship_tag": "ABX9TyOLvCYa7QKakW/Gk5vbaGr1",
      "include_colab_link": true
    },
    "kernelspec": {
      "name": "python3",
      "display_name": "Python 3"
    },
    "language_info": {
      "name": "python"
    }
  },
  "cells": [
    {
      "cell_type": "markdown",
      "metadata": {
        "id": "view-in-github",
        "colab_type": "text"
      },
      "source": [
        "<a href=\"https://colab.research.google.com/github/bickkysahani/timeseries-forecasting/blob/main/timeseries_forecasting_3_weather_prediction.ipynb\" target=\"_parent\"><img src=\"https://colab.research.google.com/assets/colab-badge.svg\" alt=\"Open In Colab\"/></a>"
      ]
    },
    {
      "cell_type": "code",
      "metadata": {
        "id": "g34F7mOcUlaH",
        "colab": {
          "base_uri": "https://localhost:8080/"
        },
        "outputId": "4ffca3ae-a5f0-45ec-d0a2-abe79aea4c65"
      },
      "source": [
        "from google.colab import drive\n",
        "drive.mount('/content/drive')"
      ],
      "execution_count": 1,
      "outputs": [
        {
          "output_type": "stream",
          "name": "stdout",
          "text": [
            "Mounted at /content/drive\n"
          ]
        }
      ]
    },
    {
      "cell_type": "code",
      "metadata": {
        "id": "jC6iZXT_UmUl",
        "colab": {
          "base_uri": "https://localhost:8080/",
          "height": 348
        },
        "outputId": "b8c7727e-4add-4614-e0ec-a5240897a0ec"
      },
      "source": [
        "df = pd.read_csv('/content/drive/MyDrive/Colab Notebooks/Weather_data.csv', parse_dates =['datetime (UTC)'])\n",
        "df.head()"
      ],
      "execution_count": 14,
      "outputs": [
        {
          "output_type": "execute_result",
          "data": {
            "text/html": [
              "<div>\n",
              "<style scoped>\n",
              "    .dataframe tbody tr th:only-of-type {\n",
              "        vertical-align: middle;\n",
              "    }\n",
              "\n",
              "    .dataframe tbody tr th {\n",
              "        vertical-align: top;\n",
              "    }\n",
              "\n",
              "    .dataframe thead th {\n",
              "        text-align: right;\n",
              "    }\n",
              "</style>\n",
              "<table border=\"1\" class=\"dataframe\">\n",
              "  <thead>\n",
              "    <tr style=\"text-align: right;\">\n",
              "      <th></th>\n",
              "      <th>datetime (UTC)</th>\n",
              "      <th>coordinates (lat,lon)</th>\n",
              "      <th>model (name)</th>\n",
              "      <th>model elevation (surface)</th>\n",
              "      <th>utc_offset (hrs)</th>\n",
              "      <th>temperature (degC)</th>\n",
              "      <th>dewpoint_temperature (degC)</th>\n",
              "      <th>wind_speed (m/s)</th>\n",
              "      <th>mean_sea_level_pressure (Pa)</th>\n",
              "      <th>relative_humidity ((0-1))</th>\n",
              "      <th>surface_solar_radiation (W/m^2)</th>\n",
              "      <th>surface_thermal_radiation (W/m^2)</th>\n",
              "      <th>total_cloud_cover (0-1)</th>\n",
              "    </tr>\n",
              "  </thead>\n",
              "  <tbody>\n",
              "    <tr>\n",
              "      <th>0</th>\n",
              "      <td>2010-01-01 00:00:00</td>\n",
              "      <td>(-37.91, 145.13)</td>\n",
              "      <td>era5</td>\n",
              "      <td>69.59</td>\n",
              "      <td>10.0</td>\n",
              "      <td>18.26</td>\n",
              "      <td>16.39</td>\n",
              "      <td>2.60</td>\n",
              "      <td>101046.38</td>\n",
              "      <td>0.89</td>\n",
              "      <td>287.01</td>\n",
              "      <td>408.35</td>\n",
              "      <td>1.0</td>\n",
              "    </tr>\n",
              "    <tr>\n",
              "      <th>1</th>\n",
              "      <td>2010-01-01 01:00:00</td>\n",
              "      <td>(-37.91, 145.13)</td>\n",
              "      <td>era5</td>\n",
              "      <td>69.59</td>\n",
              "      <td>10.0</td>\n",
              "      <td>18.67</td>\n",
              "      <td>16.29</td>\n",
              "      <td>2.91</td>\n",
              "      <td>101037.96</td>\n",
              "      <td>0.86</td>\n",
              "      <td>360.79</td>\n",
              "      <td>411.02</td>\n",
              "      <td>1.0</td>\n",
              "    </tr>\n",
              "    <tr>\n",
              "      <th>2</th>\n",
              "      <td>2010-01-01 02:00:00</td>\n",
              "      <td>(-37.91, 145.13)</td>\n",
              "      <td>era5</td>\n",
              "      <td>69.59</td>\n",
              "      <td>10.0</td>\n",
              "      <td>18.16</td>\n",
              "      <td>15.89</td>\n",
              "      <td>3.26</td>\n",
              "      <td>101017.26</td>\n",
              "      <td>0.87</td>\n",
              "      <td>291.54</td>\n",
              "      <td>410.67</td>\n",
              "      <td>1.0</td>\n",
              "    </tr>\n",
              "    <tr>\n",
              "      <th>3</th>\n",
              "      <td>2010-01-01 03:00:00</td>\n",
              "      <td>(-37.91, 145.13)</td>\n",
              "      <td>era5</td>\n",
              "      <td>69.59</td>\n",
              "      <td>10.0</td>\n",
              "      <td>18.46</td>\n",
              "      <td>15.33</td>\n",
              "      <td>3.17</td>\n",
              "      <td>101022.56</td>\n",
              "      <td>0.82</td>\n",
              "      <td>357.11</td>\n",
              "      <td>410.95</td>\n",
              "      <td>1.0</td>\n",
              "    </tr>\n",
              "    <tr>\n",
              "      <th>4</th>\n",
              "      <td>2010-01-01 04:00:00</td>\n",
              "      <td>(-37.91, 145.13)</td>\n",
              "      <td>era5</td>\n",
              "      <td>69.59</td>\n",
              "      <td>10.0</td>\n",
              "      <td>18.53</td>\n",
              "      <td>15.11</td>\n",
              "      <td>2.95</td>\n",
              "      <td>100940.03</td>\n",
              "      <td>0.80</td>\n",
              "      <td>459.91</td>\n",
              "      <td>410.00</td>\n",
              "      <td>0.9</td>\n",
              "    </tr>\n",
              "  </tbody>\n",
              "</table>\n",
              "</div>"
            ],
            "text/plain": [
              "       datetime (UTC)  ... total_cloud_cover (0-1)\n",
              "0 2010-01-01 00:00:00  ...                     1.0\n",
              "1 2010-01-01 01:00:00  ...                     1.0\n",
              "2 2010-01-01 02:00:00  ...                     1.0\n",
              "3 2010-01-01 03:00:00  ...                     1.0\n",
              "4 2010-01-01 04:00:00  ...                     0.9\n",
              "\n",
              "[5 rows x 13 columns]"
            ]
          },
          "metadata": {},
          "execution_count": 14
        }
      ]
    },
    {
      "cell_type": "code",
      "metadata": {
        "id": "1T-VdhiIdQ9n"
      },
      "source": [
        "df = df.rename(columns={'datetime (UTC)':'Date Time',\n",
        "                                 'coordinates (lat,lon)':'coordinates',\n",
        "                                  'model (name)':'model',\n",
        "                                  'model elevation (surface)':'model elevation'\n",
        "                                  ,'utc_offset (hrs)':'utc',\n",
        "                                   'temperature (degC)':'T (degC)',\n",
        "                                   'dewpoint_temperature (degC)':'Tdew (degC)',\n",
        "                                   'wind_speed (m/s)':'wv (m/s)',\n",
        "                                   'mean_sea_level_pressure (Pa)':'p (Pa)',\n",
        "                                   'relative_humidity ((0-1))':'rh (%)',\n",
        "                                   \n",
        "                                  })\n",
        "df.drop(columns=['coordinates','model','model elevation','utc'], axis=1, inplace=True)\n",
        "\n",
        "df['p (Pa)'] = df['p (Pa)'].apply(lambda x: x*0.01)\n",
        "df = df.rename(columns={'p (Pa)':'p (mbar)'\n",
        "                                  })"
      ],
      "execution_count": 15,
      "outputs": []
    },
    {
      "cell_type": "code",
      "metadata": {
        "colab": {
          "base_uri": "https://localhost:8080/",
          "height": 310
        },
        "id": "eftvKhKJdue4",
        "outputId": "bcf4d969-2ddc-4212-f902-1d7a6fa74f97"
      },
      "source": [
        "\n",
        "df.head()"
      ],
      "execution_count": 16,
      "outputs": [
        {
          "output_type": "execute_result",
          "data": {
            "text/html": [
              "<div>\n",
              "<style scoped>\n",
              "    .dataframe tbody tr th:only-of-type {\n",
              "        vertical-align: middle;\n",
              "    }\n",
              "\n",
              "    .dataframe tbody tr th {\n",
              "        vertical-align: top;\n",
              "    }\n",
              "\n",
              "    .dataframe thead th {\n",
              "        text-align: right;\n",
              "    }\n",
              "</style>\n",
              "<table border=\"1\" class=\"dataframe\">\n",
              "  <thead>\n",
              "    <tr style=\"text-align: right;\">\n",
              "      <th></th>\n",
              "      <th>Date Time</th>\n",
              "      <th>T (degC)</th>\n",
              "      <th>Tdew (degC)</th>\n",
              "      <th>wv (m/s)</th>\n",
              "      <th>p (mbar)</th>\n",
              "      <th>rh (%)</th>\n",
              "      <th>surface_solar_radiation (W/m^2)</th>\n",
              "      <th>surface_thermal_radiation (W/m^2)</th>\n",
              "      <th>total_cloud_cover (0-1)</th>\n",
              "    </tr>\n",
              "  </thead>\n",
              "  <tbody>\n",
              "    <tr>\n",
              "      <th>0</th>\n",
              "      <td>2010-01-01 00:00:00</td>\n",
              "      <td>18.26</td>\n",
              "      <td>16.39</td>\n",
              "      <td>2.60</td>\n",
              "      <td>1010.4638</td>\n",
              "      <td>0.89</td>\n",
              "      <td>287.01</td>\n",
              "      <td>408.35</td>\n",
              "      <td>1.0</td>\n",
              "    </tr>\n",
              "    <tr>\n",
              "      <th>1</th>\n",
              "      <td>2010-01-01 01:00:00</td>\n",
              "      <td>18.67</td>\n",
              "      <td>16.29</td>\n",
              "      <td>2.91</td>\n",
              "      <td>1010.3796</td>\n",
              "      <td>0.86</td>\n",
              "      <td>360.79</td>\n",
              "      <td>411.02</td>\n",
              "      <td>1.0</td>\n",
              "    </tr>\n",
              "    <tr>\n",
              "      <th>2</th>\n",
              "      <td>2010-01-01 02:00:00</td>\n",
              "      <td>18.16</td>\n",
              "      <td>15.89</td>\n",
              "      <td>3.26</td>\n",
              "      <td>1010.1726</td>\n",
              "      <td>0.87</td>\n",
              "      <td>291.54</td>\n",
              "      <td>410.67</td>\n",
              "      <td>1.0</td>\n",
              "    </tr>\n",
              "    <tr>\n",
              "      <th>3</th>\n",
              "      <td>2010-01-01 03:00:00</td>\n",
              "      <td>18.46</td>\n",
              "      <td>15.33</td>\n",
              "      <td>3.17</td>\n",
              "      <td>1010.2256</td>\n",
              "      <td>0.82</td>\n",
              "      <td>357.11</td>\n",
              "      <td>410.95</td>\n",
              "      <td>1.0</td>\n",
              "    </tr>\n",
              "    <tr>\n",
              "      <th>4</th>\n",
              "      <td>2010-01-01 04:00:00</td>\n",
              "      <td>18.53</td>\n",
              "      <td>15.11</td>\n",
              "      <td>2.95</td>\n",
              "      <td>1009.4003</td>\n",
              "      <td>0.80</td>\n",
              "      <td>459.91</td>\n",
              "      <td>410.00</td>\n",
              "      <td>0.9</td>\n",
              "    </tr>\n",
              "  </tbody>\n",
              "</table>\n",
              "</div>"
            ],
            "text/plain": [
              "            Date Time  ...  total_cloud_cover (0-1)\n",
              "0 2010-01-01 00:00:00  ...                      1.0\n",
              "1 2010-01-01 01:00:00  ...                      1.0\n",
              "2 2010-01-01 02:00:00  ...                      1.0\n",
              "3 2010-01-01 03:00:00  ...                      1.0\n",
              "4 2010-01-01 04:00:00  ...                      0.9\n",
              "\n",
              "[5 rows x 9 columns]"
            ]
          },
          "metadata": {},
          "execution_count": 16
        }
      ]
    },
    {
      "cell_type": "code",
      "metadata": {
        "id": "SV8cdNN9jfsp"
      },
      "source": [
        ""
      ],
      "execution_count": null,
      "outputs": []
    }
  ]
}