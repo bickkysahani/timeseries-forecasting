{
  "nbformat": 4,
  "nbformat_minor": 0,
  "metadata": {
    "colab": {
      "name": "timeseries-forecasting-6_weather_prediction_random_forest.ipynb",
      "provenance": [],
      "collapsed_sections": [],
      "authorship_tag": "ABX9TyMdpGxT9ApjX/DAb6Mgna6E",
      "include_colab_link": true
    },
    "kernelspec": {
      "name": "python3",
      "display_name": "Python 3"
    },
    "language_info": {
      "name": "python"
    }
  },
  "cells": [
    {
      "cell_type": "markdown",
      "metadata": {
        "id": "view-in-github",
        "colab_type": "text"
      },
      "source": [
        "<a href=\"https://colab.research.google.com/github/bickkysahani/timeseries-forecasting/blob/main/timeseries_forecasting_6_weather_prediction_random_forest.ipynb\" target=\"_parent\"><img src=\"https://colab.research.google.com/assets/colab-badge.svg\" alt=\"Open In Colab\"/></a>"
      ]
    },
    {
      "cell_type": "code",
      "metadata": {
        "id": "hNiGShX4S4LY"
      },
      "source": [
        "import pandas as pd\n",
        "import numpy as np"
      ],
      "execution_count": null,
      "outputs": []
    },
    {
      "cell_type": "code",
      "metadata": {
        "colab": {
          "base_uri": "https://localhost:8080/"
        },
        "id": "EQJ-TjAQVv3A",
        "outputId": "749d9e95-54ce-4ee9-c31f-236400fd337d"
      },
      "source": [
        "from google.colab import drive\n",
        "drive.mount('/content/drive')"
      ],
      "execution_count": null,
      "outputs": [
        {
          "output_type": "stream",
          "name": "stdout",
          "text": [
            "Mounted at /content/drive\n"
          ]
        }
      ]
    },
    {
      "cell_type": "code",
      "metadata": {
        "id": "LVx9G2ciVxRj"
      },
      "source": [
        "df = pd.read_csv('/content/drive/MyDrive/Colab Notebooks/Weather_data.csv', parse_dates =['datetime (UTC)'])\n"
      ],
      "execution_count": null,
      "outputs": []
    },
    {
      "cell_type": "code",
      "metadata": {
        "colab": {
          "base_uri": "https://localhost:8080/",
          "height": 348
        },
        "id": "HqoktplNVz5A",
        "outputId": "fa748eee-917e-4b4c-bdda-095f509b460a"
      },
      "source": [
        "df.head()"
      ],
      "execution_count": null,
      "outputs": [
        {
          "output_type": "execute_result",
          "data": {
            "text/html": [
              "<div>\n",
              "<style scoped>\n",
              "    .dataframe tbody tr th:only-of-type {\n",
              "        vertical-align: middle;\n",
              "    }\n",
              "\n",
              "    .dataframe tbody tr th {\n",
              "        vertical-align: top;\n",
              "    }\n",
              "\n",
              "    .dataframe thead th {\n",
              "        text-align: right;\n",
              "    }\n",
              "</style>\n",
              "<table border=\"1\" class=\"dataframe\">\n",
              "  <thead>\n",
              "    <tr style=\"text-align: right;\">\n",
              "      <th></th>\n",
              "      <th>datetime (UTC)</th>\n",
              "      <th>coordinates (lat,lon)</th>\n",
              "      <th>model (name)</th>\n",
              "      <th>model elevation (surface)</th>\n",
              "      <th>utc_offset (hrs)</th>\n",
              "      <th>temperature (degC)</th>\n",
              "      <th>dewpoint_temperature (degC)</th>\n",
              "      <th>wind_speed (m/s)</th>\n",
              "      <th>mean_sea_level_pressure (Pa)</th>\n",
              "      <th>relative_humidity ((0-1))</th>\n",
              "      <th>surface_solar_radiation (W/m^2)</th>\n",
              "      <th>surface_thermal_radiation (W/m^2)</th>\n",
              "      <th>total_cloud_cover (0-1)</th>\n",
              "    </tr>\n",
              "  </thead>\n",
              "  <tbody>\n",
              "    <tr>\n",
              "      <th>0</th>\n",
              "      <td>2010-01-01 00:00:00</td>\n",
              "      <td>(-37.91, 145.13)</td>\n",
              "      <td>era5</td>\n",
              "      <td>69.59</td>\n",
              "      <td>10.0</td>\n",
              "      <td>18.26</td>\n",
              "      <td>16.39</td>\n",
              "      <td>2.60</td>\n",
              "      <td>101046.38</td>\n",
              "      <td>0.89</td>\n",
              "      <td>287.01</td>\n",
              "      <td>408.35</td>\n",
              "      <td>1.0</td>\n",
              "    </tr>\n",
              "    <tr>\n",
              "      <th>1</th>\n",
              "      <td>2010-01-01 01:00:00</td>\n",
              "      <td>(-37.91, 145.13)</td>\n",
              "      <td>era5</td>\n",
              "      <td>69.59</td>\n",
              "      <td>10.0</td>\n",
              "      <td>18.67</td>\n",
              "      <td>16.29</td>\n",
              "      <td>2.91</td>\n",
              "      <td>101037.96</td>\n",
              "      <td>0.86</td>\n",
              "      <td>360.79</td>\n",
              "      <td>411.02</td>\n",
              "      <td>1.0</td>\n",
              "    </tr>\n",
              "    <tr>\n",
              "      <th>2</th>\n",
              "      <td>2010-01-01 02:00:00</td>\n",
              "      <td>(-37.91, 145.13)</td>\n",
              "      <td>era5</td>\n",
              "      <td>69.59</td>\n",
              "      <td>10.0</td>\n",
              "      <td>18.16</td>\n",
              "      <td>15.89</td>\n",
              "      <td>3.26</td>\n",
              "      <td>101017.26</td>\n",
              "      <td>0.87</td>\n",
              "      <td>291.54</td>\n",
              "      <td>410.67</td>\n",
              "      <td>1.0</td>\n",
              "    </tr>\n",
              "    <tr>\n",
              "      <th>3</th>\n",
              "      <td>2010-01-01 03:00:00</td>\n",
              "      <td>(-37.91, 145.13)</td>\n",
              "      <td>era5</td>\n",
              "      <td>69.59</td>\n",
              "      <td>10.0</td>\n",
              "      <td>18.46</td>\n",
              "      <td>15.33</td>\n",
              "      <td>3.17</td>\n",
              "      <td>101022.56</td>\n",
              "      <td>0.82</td>\n",
              "      <td>357.11</td>\n",
              "      <td>410.95</td>\n",
              "      <td>1.0</td>\n",
              "    </tr>\n",
              "    <tr>\n",
              "      <th>4</th>\n",
              "      <td>2010-01-01 04:00:00</td>\n",
              "      <td>(-37.91, 145.13)</td>\n",
              "      <td>era5</td>\n",
              "      <td>69.59</td>\n",
              "      <td>10.0</td>\n",
              "      <td>18.53</td>\n",
              "      <td>15.11</td>\n",
              "      <td>2.95</td>\n",
              "      <td>100940.03</td>\n",
              "      <td>0.80</td>\n",
              "      <td>459.91</td>\n",
              "      <td>410.00</td>\n",
              "      <td>0.9</td>\n",
              "    </tr>\n",
              "  </tbody>\n",
              "</table>\n",
              "</div>"
            ],
            "text/plain": [
              "       datetime (UTC)  ... total_cloud_cover (0-1)\n",
              "0 2010-01-01 00:00:00  ...                     1.0\n",
              "1 2010-01-01 01:00:00  ...                     1.0\n",
              "2 2010-01-01 02:00:00  ...                     1.0\n",
              "3 2010-01-01 03:00:00  ...                     1.0\n",
              "4 2010-01-01 04:00:00  ...                     0.9\n",
              "\n",
              "[5 rows x 13 columns]"
            ]
          },
          "metadata": {},
          "execution_count": 4
        }
      ]
    },
    {
      "cell_type": "code",
      "metadata": {
        "id": "UwowWhZGWDhj"
      },
      "source": [
        "#Lets rename some columns\n",
        "df = df.rename(columns={'datetime (UTC)':'Date Time',\n",
        "                                 'coordinates (lat,lon)':'coordinates',\n",
        "                                  'model (name)':'model',\n",
        "                                  'model elevation (surface)':'model elevation'\n",
        "                                  ,'utc_offset (hrs)':'utc',\n",
        "                                   'temperature (degC)':'Temperature',\n",
        "                                   'dewpoint_temperature (degC)':'Temperature(dw)',\n",
        "                                   'wind_speed (m/s)':'Wind Speed',\n",
        "                                   'mean_sea_level_pressure (Pa)':'Pressure',\n",
        "                                   'relative_humidity ((0-1))':'Relative Humidity',\n",
        "                                  'surface_solar_radiation (W/m^2)':'Solar Radiation',\n",
        "                                  'surface_thermal_radiation (W/m^2)':'Thermal Radiation',\n",
        "                                  'total_cloud_cover (0-1)':'Total Cloud Cover'\n",
        "                                  })\n",
        "#drop some unnecessary columns\n",
        "df.drop(columns=['coordinates','model','model elevation','utc'], axis=1, inplace=True)\n",
        "\n",
        "df['Pressure'] = df['Pressure'].apply(lambda x: x*0.01)"
      ],
      "execution_count": null,
      "outputs": []
    },
    {
      "cell_type": "code",
      "metadata": {
        "colab": {
          "base_uri": "https://localhost:8080/",
          "height": 206
        },
        "id": "t5sZY74bWHRO",
        "outputId": "28c05938-3407-4b38-db38-18ab32206bd7"
      },
      "source": [
        "df.head()"
      ],
      "execution_count": null,
      "outputs": [
        {
          "output_type": "execute_result",
          "data": {
            "text/html": [
              "<div>\n",
              "<style scoped>\n",
              "    .dataframe tbody tr th:only-of-type {\n",
              "        vertical-align: middle;\n",
              "    }\n",
              "\n",
              "    .dataframe tbody tr th {\n",
              "        vertical-align: top;\n",
              "    }\n",
              "\n",
              "    .dataframe thead th {\n",
              "        text-align: right;\n",
              "    }\n",
              "</style>\n",
              "<table border=\"1\" class=\"dataframe\">\n",
              "  <thead>\n",
              "    <tr style=\"text-align: right;\">\n",
              "      <th></th>\n",
              "      <th>Date Time</th>\n",
              "      <th>Temperature</th>\n",
              "      <th>Temperature(dw)</th>\n",
              "      <th>Wind Speed</th>\n",
              "      <th>Pressure</th>\n",
              "      <th>Relative Humidity</th>\n",
              "      <th>Solar Radiation</th>\n",
              "      <th>Thermal Radiation</th>\n",
              "      <th>Total Cloud Cover</th>\n",
              "    </tr>\n",
              "  </thead>\n",
              "  <tbody>\n",
              "    <tr>\n",
              "      <th>0</th>\n",
              "      <td>2010-01-01 00:00:00</td>\n",
              "      <td>18.26</td>\n",
              "      <td>16.39</td>\n",
              "      <td>2.60</td>\n",
              "      <td>1010.4638</td>\n",
              "      <td>0.89</td>\n",
              "      <td>287.01</td>\n",
              "      <td>408.35</td>\n",
              "      <td>1.0</td>\n",
              "    </tr>\n",
              "    <tr>\n",
              "      <th>1</th>\n",
              "      <td>2010-01-01 01:00:00</td>\n",
              "      <td>18.67</td>\n",
              "      <td>16.29</td>\n",
              "      <td>2.91</td>\n",
              "      <td>1010.3796</td>\n",
              "      <td>0.86</td>\n",
              "      <td>360.79</td>\n",
              "      <td>411.02</td>\n",
              "      <td>1.0</td>\n",
              "    </tr>\n",
              "    <tr>\n",
              "      <th>2</th>\n",
              "      <td>2010-01-01 02:00:00</td>\n",
              "      <td>18.16</td>\n",
              "      <td>15.89</td>\n",
              "      <td>3.26</td>\n",
              "      <td>1010.1726</td>\n",
              "      <td>0.87</td>\n",
              "      <td>291.54</td>\n",
              "      <td>410.67</td>\n",
              "      <td>1.0</td>\n",
              "    </tr>\n",
              "    <tr>\n",
              "      <th>3</th>\n",
              "      <td>2010-01-01 03:00:00</td>\n",
              "      <td>18.46</td>\n",
              "      <td>15.33</td>\n",
              "      <td>3.17</td>\n",
              "      <td>1010.2256</td>\n",
              "      <td>0.82</td>\n",
              "      <td>357.11</td>\n",
              "      <td>410.95</td>\n",
              "      <td>1.0</td>\n",
              "    </tr>\n",
              "    <tr>\n",
              "      <th>4</th>\n",
              "      <td>2010-01-01 04:00:00</td>\n",
              "      <td>18.53</td>\n",
              "      <td>15.11</td>\n",
              "      <td>2.95</td>\n",
              "      <td>1009.4003</td>\n",
              "      <td>0.80</td>\n",
              "      <td>459.91</td>\n",
              "      <td>410.00</td>\n",
              "      <td>0.9</td>\n",
              "    </tr>\n",
              "  </tbody>\n",
              "</table>\n",
              "</div>"
            ],
            "text/plain": [
              "            Date Time  Temperature  ...  Thermal Radiation  Total Cloud Cover\n",
              "0 2010-01-01 00:00:00        18.26  ...             408.35                1.0\n",
              "1 2010-01-01 01:00:00        18.67  ...             411.02                1.0\n",
              "2 2010-01-01 02:00:00        18.16  ...             410.67                1.0\n",
              "3 2010-01-01 03:00:00        18.46  ...             410.95                1.0\n",
              "4 2010-01-01 04:00:00        18.53  ...             410.00                0.9\n",
              "\n",
              "[5 rows x 9 columns]"
            ]
          },
          "metadata": {},
          "execution_count": 6
        }
      ]
    },
    {
      "cell_type": "code",
      "metadata": {
        "id": "7H92AaIqWJQU"
      },
      "source": [
        "features_considered = ['Temperature','Temperature(dw)', 'Wind Speed', 'Pressure','Relative Humidity','Solar Radiation','Thermal Radiation','Total Cloud Cover']\n",
        "features = df[features_considered]\n",
        "features.index = df['Date Time']\n",
        "features.head()\n",
        "features = features[['Temperature(dw)', 'Wind Speed', 'Pressure','Relative Humidity','Solar Radiation','Thermal Radiation','Total Cloud Cover','Temperature']]"
      ],
      "execution_count": null,
      "outputs": []
    },
    {
      "cell_type": "code",
      "metadata": {
        "colab": {
          "base_uri": "https://localhost:8080/",
          "height": 237
        },
        "id": "Nj7b0d_oeduA",
        "outputId": "4349a6df-d89a-406e-c8be-9a0667e109bf"
      },
      "source": [
        "features.head()"
      ],
      "execution_count": null,
      "outputs": [
        {
          "output_type": "execute_result",
          "data": {
            "text/html": [
              "<div>\n",
              "<style scoped>\n",
              "    .dataframe tbody tr th:only-of-type {\n",
              "        vertical-align: middle;\n",
              "    }\n",
              "\n",
              "    .dataframe tbody tr th {\n",
              "        vertical-align: top;\n",
              "    }\n",
              "\n",
              "    .dataframe thead th {\n",
              "        text-align: right;\n",
              "    }\n",
              "</style>\n",
              "<table border=\"1\" class=\"dataframe\">\n",
              "  <thead>\n",
              "    <tr style=\"text-align: right;\">\n",
              "      <th></th>\n",
              "      <th>Temperature(dw)</th>\n",
              "      <th>Wind Speed</th>\n",
              "      <th>Pressure</th>\n",
              "      <th>Relative Humidity</th>\n",
              "      <th>Solar Radiation</th>\n",
              "      <th>Thermal Radiation</th>\n",
              "      <th>Total Cloud Cover</th>\n",
              "      <th>Temperature</th>\n",
              "    </tr>\n",
              "    <tr>\n",
              "      <th>Date Time</th>\n",
              "      <th></th>\n",
              "      <th></th>\n",
              "      <th></th>\n",
              "      <th></th>\n",
              "      <th></th>\n",
              "      <th></th>\n",
              "      <th></th>\n",
              "      <th></th>\n",
              "    </tr>\n",
              "  </thead>\n",
              "  <tbody>\n",
              "    <tr>\n",
              "      <th>2010-01-01 00:00:00</th>\n",
              "      <td>16.39</td>\n",
              "      <td>2.60</td>\n",
              "      <td>1010.4638</td>\n",
              "      <td>0.89</td>\n",
              "      <td>287.01</td>\n",
              "      <td>408.35</td>\n",
              "      <td>1.0</td>\n",
              "      <td>18.26</td>\n",
              "    </tr>\n",
              "    <tr>\n",
              "      <th>2010-01-01 01:00:00</th>\n",
              "      <td>16.29</td>\n",
              "      <td>2.91</td>\n",
              "      <td>1010.3796</td>\n",
              "      <td>0.86</td>\n",
              "      <td>360.79</td>\n",
              "      <td>411.02</td>\n",
              "      <td>1.0</td>\n",
              "      <td>18.67</td>\n",
              "    </tr>\n",
              "    <tr>\n",
              "      <th>2010-01-01 02:00:00</th>\n",
              "      <td>15.89</td>\n",
              "      <td>3.26</td>\n",
              "      <td>1010.1726</td>\n",
              "      <td>0.87</td>\n",
              "      <td>291.54</td>\n",
              "      <td>410.67</td>\n",
              "      <td>1.0</td>\n",
              "      <td>18.16</td>\n",
              "    </tr>\n",
              "    <tr>\n",
              "      <th>2010-01-01 03:00:00</th>\n",
              "      <td>15.33</td>\n",
              "      <td>3.17</td>\n",
              "      <td>1010.2256</td>\n",
              "      <td>0.82</td>\n",
              "      <td>357.11</td>\n",
              "      <td>410.95</td>\n",
              "      <td>1.0</td>\n",
              "      <td>18.46</td>\n",
              "    </tr>\n",
              "    <tr>\n",
              "      <th>2010-01-01 04:00:00</th>\n",
              "      <td>15.11</td>\n",
              "      <td>2.95</td>\n",
              "      <td>1009.4003</td>\n",
              "      <td>0.80</td>\n",
              "      <td>459.91</td>\n",
              "      <td>410.00</td>\n",
              "      <td>0.9</td>\n",
              "      <td>18.53</td>\n",
              "    </tr>\n",
              "  </tbody>\n",
              "</table>\n",
              "</div>"
            ],
            "text/plain": [
              "                     Temperature(dw)  ...  Temperature\n",
              "Date Time                             ...             \n",
              "2010-01-01 00:00:00            16.39  ...        18.26\n",
              "2010-01-01 01:00:00            16.29  ...        18.67\n",
              "2010-01-01 02:00:00            15.89  ...        18.16\n",
              "2010-01-01 03:00:00            15.33  ...        18.46\n",
              "2010-01-01 04:00:00            15.11  ...        18.53\n",
              "\n",
              "[5 rows x 8 columns]"
            ]
          },
          "metadata": {},
          "execution_count": 94
        }
      ]
    },
    {
      "cell_type": "code",
      "metadata": {
        "id": "uASfV7QrWa4s"
      },
      "source": [
        "split_fraction = 0.715\n",
        "train_split = int(split_fraction * int(df.shape[0]))\n",
        "step = 1\n",
        "\n",
        "# past = 72\n",
        "# future = 24\n",
        "# learning_rate = 0.001\n",
        "# batch_size = 256\n",
        "# epochs = 10\n",
        "\n",
        "\n",
        "def normalize(data, train_split):\n",
        "    data_mean = data[:train_split].mean(axis=0)\n",
        "    data_std = data[:train_split].std(axis=0)\n",
        "    return (data - data_mean) / data_std\n"
      ],
      "execution_count": null,
      "outputs": []
    },
    {
      "cell_type": "code",
      "metadata": {
        "id": "f1qo0HdmWlDC"
      },
      "source": [
        "features.head()\n",
        "features = normalize(features.values, train_split)\n",
        "features = pd.DataFrame(features)\n",
        "# features.head()\n",
        "# features.shape\n",
        "train_data = features.loc[0 : train_split - 1]\n",
        "test_data = features.loc[train_split:]"
      ],
      "execution_count": null,
      "outputs": []
    },
    {
      "cell_type": "code",
      "metadata": {
        "colab": {
          "base_uri": "https://localhost:8080/",
          "height": 206
        },
        "id": "CPgk7DrMaxnd",
        "outputId": "9fa10020-90e5-45c5-de14-134f58be6e80"
      },
      "source": [
        "features.head()"
      ],
      "execution_count": null,
      "outputs": [
        {
          "output_type": "execute_result",
          "data": {
            "text/html": [
              "<div>\n",
              "<style scoped>\n",
              "    .dataframe tbody tr th:only-of-type {\n",
              "        vertical-align: middle;\n",
              "    }\n",
              "\n",
              "    .dataframe tbody tr th {\n",
              "        vertical-align: top;\n",
              "    }\n",
              "\n",
              "    .dataframe thead th {\n",
              "        text-align: right;\n",
              "    }\n",
              "</style>\n",
              "<table border=\"1\" class=\"dataframe\">\n",
              "  <thead>\n",
              "    <tr style=\"text-align: right;\">\n",
              "      <th></th>\n",
              "      <th>0</th>\n",
              "      <th>1</th>\n",
              "      <th>2</th>\n",
              "      <th>3</th>\n",
              "      <th>4</th>\n",
              "      <th>5</th>\n",
              "      <th>6</th>\n",
              "      <th>7</th>\n",
              "    </tr>\n",
              "  </thead>\n",
              "  <tbody>\n",
              "    <tr>\n",
              "      <th>0</th>\n",
              "      <td>1.868083</td>\n",
              "      <td>-0.628144</td>\n",
              "      <td>-0.572659</td>\n",
              "      <td>1.010458</td>\n",
              "      <td>0.383764</td>\n",
              "      <td>2.522450</td>\n",
              "      <td>1.171198</td>\n",
              "      <td>0.602596</td>\n",
              "    </tr>\n",
              "    <tr>\n",
              "      <th>1</th>\n",
              "      <td>1.840567</td>\n",
              "      <td>-0.476359</td>\n",
              "      <td>-0.581543</td>\n",
              "      <td>0.820541</td>\n",
              "      <td>0.659915</td>\n",
              "      <td>2.603226</td>\n",
              "      <td>1.171198</td>\n",
              "      <td>0.675556</td>\n",
              "    </tr>\n",
              "    <tr>\n",
              "      <th>2</th>\n",
              "      <td>1.730503</td>\n",
              "      <td>-0.304989</td>\n",
              "      <td>-0.603384</td>\n",
              "      <td>0.883847</td>\n",
              "      <td>0.400719</td>\n",
              "      <td>2.592638</td>\n",
              "      <td>1.171198</td>\n",
              "      <td>0.584800</td>\n",
              "    </tr>\n",
              "    <tr>\n",
              "      <th>3</th>\n",
              "      <td>1.576414</td>\n",
              "      <td>-0.349055</td>\n",
              "      <td>-0.597792</td>\n",
              "      <td>0.567319</td>\n",
              "      <td>0.646142</td>\n",
              "      <td>2.601109</td>\n",
              "      <td>1.171198</td>\n",
              "      <td>0.638186</td>\n",
              "    </tr>\n",
              "    <tr>\n",
              "      <th>4</th>\n",
              "      <td>1.515879</td>\n",
              "      <td>-0.456774</td>\n",
              "      <td>-0.684870</td>\n",
              "      <td>0.440708</td>\n",
              "      <td>1.030913</td>\n",
              "      <td>2.572368</td>\n",
              "      <td>0.891122</td>\n",
              "      <td>0.650643</td>\n",
              "    </tr>\n",
              "  </tbody>\n",
              "</table>\n",
              "</div>"
            ],
            "text/plain": [
              "          0         1         2  ...         5         6         7\n",
              "0  1.868083 -0.628144 -0.572659  ...  2.522450  1.171198  0.602596\n",
              "1  1.840567 -0.476359 -0.581543  ...  2.603226  1.171198  0.675556\n",
              "2  1.730503 -0.304989 -0.603384  ...  2.592638  1.171198  0.584800\n",
              "3  1.576414 -0.349055 -0.597792  ...  2.601109  1.171198  0.638186\n",
              "4  1.515879 -0.456774 -0.684870  ...  2.572368  0.891122  0.650643\n",
              "\n",
              "[5 rows x 8 columns]"
            ]
          },
          "metadata": {},
          "execution_count": 114
        }
      ]
    },
    {
      "cell_type": "code",
      "metadata": {
        "colab": {
          "base_uri": "https://localhost:8080/"
        },
        "id": "r_nTuJ9uaNa5",
        "outputId": "8220185f-b9bb-4d26-8fbb-7148d50a2ece"
      },
      "source": [
        "train_data.shape, test_data.shape"
      ],
      "execution_count": null,
      "outputs": [
        {
          "output_type": "execute_result",
          "data": {
            "text/plain": [
              "((71540, 8), (28517, 8))"
            ]
          },
          "metadata": {},
          "execution_count": 117
        }
      ]
    },
    {
      "cell_type": "code",
      "metadata": {
        "colab": {
          "base_uri": "https://localhost:8080/",
          "height": 206
        },
        "id": "v6sL3YB3aofx",
        "outputId": "0b6fa628-88a3-493b-bb43-7ca6c5f7854b"
      },
      "source": [
        "train_data.head()"
      ],
      "execution_count": null,
      "outputs": [
        {
          "output_type": "execute_result",
          "data": {
            "text/html": [
              "<div>\n",
              "<style scoped>\n",
              "    .dataframe tbody tr th:only-of-type {\n",
              "        vertical-align: middle;\n",
              "    }\n",
              "\n",
              "    .dataframe tbody tr th {\n",
              "        vertical-align: top;\n",
              "    }\n",
              "\n",
              "    .dataframe thead th {\n",
              "        text-align: right;\n",
              "    }\n",
              "</style>\n",
              "<table border=\"1\" class=\"dataframe\">\n",
              "  <thead>\n",
              "    <tr style=\"text-align: right;\">\n",
              "      <th></th>\n",
              "      <th>0</th>\n",
              "      <th>1</th>\n",
              "      <th>2</th>\n",
              "      <th>3</th>\n",
              "      <th>4</th>\n",
              "      <th>5</th>\n",
              "      <th>6</th>\n",
              "      <th>7</th>\n",
              "    </tr>\n",
              "  </thead>\n",
              "  <tbody>\n",
              "    <tr>\n",
              "      <th>0</th>\n",
              "      <td>1.868083</td>\n",
              "      <td>-0.628144</td>\n",
              "      <td>-0.572659</td>\n",
              "      <td>1.010458</td>\n",
              "      <td>0.383764</td>\n",
              "      <td>2.522450</td>\n",
              "      <td>1.171198</td>\n",
              "      <td>0.602596</td>\n",
              "    </tr>\n",
              "    <tr>\n",
              "      <th>1</th>\n",
              "      <td>1.840567</td>\n",
              "      <td>-0.476359</td>\n",
              "      <td>-0.581543</td>\n",
              "      <td>0.820541</td>\n",
              "      <td>0.659915</td>\n",
              "      <td>2.603226</td>\n",
              "      <td>1.171198</td>\n",
              "      <td>0.675556</td>\n",
              "    </tr>\n",
              "    <tr>\n",
              "      <th>2</th>\n",
              "      <td>1.730503</td>\n",
              "      <td>-0.304989</td>\n",
              "      <td>-0.603384</td>\n",
              "      <td>0.883847</td>\n",
              "      <td>0.400719</td>\n",
              "      <td>2.592638</td>\n",
              "      <td>1.171198</td>\n",
              "      <td>0.584800</td>\n",
              "    </tr>\n",
              "    <tr>\n",
              "      <th>3</th>\n",
              "      <td>1.576414</td>\n",
              "      <td>-0.349055</td>\n",
              "      <td>-0.597792</td>\n",
              "      <td>0.567319</td>\n",
              "      <td>0.646142</td>\n",
              "      <td>2.601109</td>\n",
              "      <td>1.171198</td>\n",
              "      <td>0.638186</td>\n",
              "    </tr>\n",
              "    <tr>\n",
              "      <th>4</th>\n",
              "      <td>1.515879</td>\n",
              "      <td>-0.456774</td>\n",
              "      <td>-0.684870</td>\n",
              "      <td>0.440708</td>\n",
              "      <td>1.030913</td>\n",
              "      <td>2.572368</td>\n",
              "      <td>0.891122</td>\n",
              "      <td>0.650643</td>\n",
              "    </tr>\n",
              "  </tbody>\n",
              "</table>\n",
              "</div>"
            ],
            "text/plain": [
              "          0         1         2  ...         5         6         7\n",
              "0  1.868083 -0.628144 -0.572659  ...  2.522450  1.171198  0.602596\n",
              "1  1.840567 -0.476359 -0.581543  ...  2.603226  1.171198  0.675556\n",
              "2  1.730503 -0.304989 -0.603384  ...  2.592638  1.171198  0.584800\n",
              "3  1.576414 -0.349055 -0.597792  ...  2.601109  1.171198  0.638186\n",
              "4  1.515879 -0.456774 -0.684870  ...  2.572368  0.891122  0.650643\n",
              "\n",
              "[5 rows x 8 columns]"
            ]
          },
          "metadata": {},
          "execution_count": 118
        }
      ]
    },
    {
      "cell_type": "code",
      "metadata": {
        "colab": {
          "base_uri": "https://localhost:8080/"
        },
        "id": "Pa8ez4ZDap6W",
        "outputId": "f2a28edc-2d45-4da8-9fcb-4ef921b9fb82"
      },
      "source": [
        "# start = past + future\n",
        "# end = start + train_split\n",
        "\n",
        "# #splitting features and target label\n",
        "# x_train = train_data[[i for i in range(7)]].values\n",
        "# y_train = features.iloc[start:end][[1]]\n",
        "\n",
        "# sequence_length = int(past / step)\n",
        "# x_train.shape, y_train.shape\n"
      ],
      "execution_count": null,
      "outputs": [
        {
          "output_type": "execute_result",
          "data": {
            "text/plain": [
              "((71540, 7), (71540, 1))"
            ]
          },
          "metadata": {},
          "execution_count": 100
        }
      ]
    },
    {
      "cell_type": "code",
      "metadata": {
        "id": "iPrpoS2rkE4z"
      },
      "source": [
        "\n"
      ],
      "execution_count": null,
      "outputs": []
    },
    {
      "cell_type": "code",
      "metadata": {
        "colab": {
          "base_uri": "https://localhost:8080/"
        },
        "id": "YnDeI0Wuf0S4",
        "outputId": "2e021f82-a2a3-421e-ac3f-c83d53bce348"
      },
      "source": [
        "type(x_train)\n",
        "x_train[:], y_train[:]"
      ],
      "execution_count": null,
      "outputs": [
        {
          "output_type": "execute_result",
          "data": {
            "text/plain": [
              "(array([[ 1.86808295, -0.62814379, -0.57265943, ...,  0.38376354,\n",
              "          2.52244951,  1.171198  ],\n",
              "        [ 1.84056705, -0.47635885, -0.58154341, ...,  0.65991545,\n",
              "          2.60322629,  1.171198  ],\n",
              "        [ 1.73050348, -0.30498875, -0.60338406, ...,  0.40071892,\n",
              "          2.59263757,  1.171198  ],\n",
              "        ...,\n",
              "        [ 1.30675869,  0.77709103, -0.21387131, ..., -0.69048913,\n",
              "          1.15862287,  1.171198  ],\n",
              "        [ 1.32877141,  1.0023203 , -0.16429197, ..., -0.69048913,\n",
              "          1.76581011,  1.171198  ],\n",
              "        [ 1.28474598,  0.89460195, -0.15208441, ..., -0.69048913,\n",
              "          1.84023365,  1.171198  ]]),               1\n",
              " 96     0.018166\n",
              " 97     0.390284\n",
              " 98     0.473521\n",
              " 99     0.434351\n",
              " 100    0.360906\n",
              " ...         ...\n",
              " 71631 -0.138515\n",
              " 71632 -0.329470\n",
              " 71633 -0.525322\n",
              " 71634 -0.730966\n",
              " 71635 -0.794618\n",
              " \n",
              " [71540 rows x 1 columns])"
            ]
          },
          "metadata": {},
          "execution_count": 102
        }
      ]
    },
    {
      "cell_type": "code",
      "metadata": {
        "id": "IK5zHeiefqq6"
      },
      "source": [
        ""
      ],
      "execution_count": null,
      "outputs": []
    },
    {
      "cell_type": "code",
      "metadata": {
        "colab": {
          "base_uri": "https://localhost:8080/"
        },
        "id": "T-cU583FbU7U",
        "outputId": "4bcf99e3-896d-4408-da9c-90031ec05279"
      },
      "source": [
        "x_end = len(test_data) - past - future\n",
        "\n",
        "label_start = train_split + past + future\n",
        "\n",
        "x_val = test_data.iloc[:x_end][[i for i in range(7)]].values\n",
        "y_val = features.iloc[label_start:][[1]]\n",
        "x_val.shape, y_val.shape"
      ],
      "execution_count": null,
      "outputs": [
        {
          "output_type": "execute_result",
          "data": {
            "text/plain": [
              "((28421, 7), (28421, 1))"
            ]
          },
          "metadata": {},
          "execution_count": 103
        }
      ]
    },
    {
      "cell_type": "code",
      "metadata": {
        "id": "mILySWYhcAC7"
      },
      "source": [
        ""
      ],
      "execution_count": null,
      "outputs": []
    },
    {
      "cell_type": "code",
      "metadata": {
        "id": "5hBHkSOTcLF3"
      },
      "source": [
        "from sklearn.ensemble import RandomForestRegressor\n",
        "model = RandomForestRegressor(n_estimators=100,max_features=3,random_state=1)"
      ],
      "execution_count": null,
      "outputs": []
    },
    {
      "cell_type": "code",
      "metadata": {
        "colab": {
          "base_uri": "https://localhost:8080/"
        },
        "id": "i7hVQOOOclaI",
        "outputId": "98b1430b-164e-46cb-e2d9-26c0d80cf322"
      },
      "source": [
        "model.fit(x_train,y_train)"
      ],
      "execution_count": null,
      "outputs": [
        {
          "output_type": "stream",
          "name": "stderr",
          "text": [
            "/usr/local/lib/python3.7/dist-packages/ipykernel_launcher.py:1: DataConversionWarning: A column-vector y was passed when a 1d array was expected. Please change the shape of y to (n_samples,), for example using ravel().\n",
            "  \"\"\"Entry point for launching an IPython kernel.\n"
          ]
        },
        {
          "output_type": "execute_result",
          "data": {
            "text/plain": [
              "RandomForestRegressor(max_features=3, random_state=1)"
            ]
          },
          "metadata": {},
          "execution_count": 107
        }
      ]
    },
    {
      "cell_type": "code",
      "metadata": {
        "colab": {
          "base_uri": "https://localhost:8080/",
          "height": 483
        },
        "id": "ihy_B0__cySh",
        "outputId": "faec27b7-4a77-4d49-e995-542d7a7c6620"
      },
      "source": [
        "pred = model.predict(x_val)\n",
        "import matplotlib.pyplot as plt\n",
        "plt.rcParams[\"figure.figsize\"] = (12,8)\n",
        "plt.plot(pred,label=\"Random Forest predictions\")\n",
        "plt.plot(y_val,label=\"Actual Temperatures\")\n",
        "plt.legend(loc=\"upper left\")\n",
        "plt.show()"
      ],
      "execution_count": null,
      "outputs": [
        {
          "output_type": "display_data",
          "data": {
            "image/png": "[encoded data removed]",
            "text/plain": [
              "<Figure size 864x576 with 1 Axes>"
            ]
          },
          "metadata": {
            "needs_background": "light"
          }
        }
      ]
    },
    {
      "cell_type": "code",
      "metadata": {
        "id": "nHepa6LJdaUM"
      },
      "source": [
        "from sklearn.metrics import mean_squared_error\n",
        "from math import sqrt\n",
        "rmse = sqrt(mean_squared_error(pred,y_val))\n"
      ],
      "execution_count": null,
      "outputs": []
    },
    {
      "cell_type": "code",
      "metadata": {
        "colab": {
          "base_uri": "https://localhost:8080/"
        },
        "id": "-GuvW9_Fhy47",
        "outputId": "51a5d1d4-655c-42f0-81fd-ab6ab9a253f3"
      },
      "source": [
        "print(\"Mean Squared Error for Random Forest Model is:\",rmse)"
      ],
      "execution_count": null,
      "outputs": [
        {
          "output_type": "stream",
          "name": "stdout",
          "text": [
            "Mean Squared Error for Random Forest Model is: 1.0262337412484897\n"
          ]
        }
      ]
    },
    {
      "cell_type": "code",
      "metadata": {
        "id": "JOpeARZZh8Fg"
      },
      "source": [
        "#worked 2 hours"
      ],
      "execution_count": null,
      "outputs": []
    }
  ]
}