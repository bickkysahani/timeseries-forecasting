{
  "nbformat": 4,
  "nbformat_minor": 0,
  "metadata": {
    "colab": {
      "name": "timeseries-forecasting-6_weather_prediction_random_forest.ipynb",
      "provenance": [],
      "collapsed_sections": [],
      "authorship_tag": "ABX9TyNcfiIDSLmdgn2EFoEpqKR3",
      "include_colab_link": true
    },
    "kernelspec": {
      "name": "python3",
      "display_name": "Python 3"
    },
    "language_info": {
      "name": "python"
    }
  },
  "cells": [
    {
      "cell_type": "markdown",
      "metadata": {
        "id": "view-in-github",
        "colab_type": "text"
      },
      "source": [
        "<a href=\"https://colab.research.google.com/github/bickkysahani/timeseries-forecasting/blob/main/timeseries_forecasting_6_weather_prediction_random_forest.ipynb\" target=\"_parent\"><img src=\"https://colab.research.google.com/assets/colab-badge.svg\" alt=\"Open In Colab\"/></a>"
      ]
    },
    {
      "cell_type": "code",
      "metadata": {
        "id": "hNiGShX4S4LY"
      },
      "source": [
        "import pandas as pd\n",
        "import numpy as np"
      ],
      "execution_count": 1,
      "outputs": []
    },
    {
      "cell_type": "code",
      "metadata": {
        "id": "EQJ-TjAQVv3A"
      },
      "source": [
        "from google.colab import drive\n",
        "drive.mount('/content/drive')"
      ],
      "execution_count": null,
      "outputs": []
    },
    {
      "cell_type": "code",
      "metadata": {
        "id": "LVx9G2ciVxRj"
      },
      "source": [
        "df = pd.read_csv('/content/drive/MyDrive/Colab Notebooks/Weather_data.csv', parse_dates =['datetime (UTC)'])\n"
      ],
      "execution_count": 175,
      "outputs": []
    },
    {
      "cell_type": "code",
      "metadata": {
        "colab": {
          "base_uri": "https://localhost:8080/",
          "height": 348
        },
        "id": "HqoktplNVz5A",
        "outputId": "cdaba93a-9c3e-4078-9816-d286c06506db"
      },
      "source": [
        "df.head()"
      ],
      "execution_count": 176,
      "outputs": [
        {
          "output_type": "execute_result",
          "data": {
            "text/html": [
              "<div>\n",
              "<style scoped>\n",
              "    .dataframe tbody tr th:only-of-type {\n",
              "        vertical-align: middle;\n",
              "    }\n",
              "\n",
              "    .dataframe tbody tr th {\n",
              "        vertical-align: top;\n",
              "    }\n",
              "\n",
              "    .dataframe thead th {\n",
              "        text-align: right;\n",
              "    }\n",
              "</style>\n",
              "<table border=\"1\" class=\"dataframe\">\n",
              "  <thead>\n",
              "    <tr style=\"text-align: right;\">\n",
              "      <th></th>\n",
              "      <th>datetime (UTC)</th>\n",
              "      <th>coordinates (lat,lon)</th>\n",
              "      <th>model (name)</th>\n",
              "      <th>model elevation (surface)</th>\n",
              "      <th>utc_offset (hrs)</th>\n",
              "      <th>temperature (degC)</th>\n",
              "      <th>dewpoint_temperature (degC)</th>\n",
              "      <th>wind_speed (m/s)</th>\n",
              "      <th>mean_sea_level_pressure (Pa)</th>\n",
              "      <th>relative_humidity ((0-1))</th>\n",
              "      <th>surface_solar_radiation (W/m^2)</th>\n",
              "      <th>surface_thermal_radiation (W/m^2)</th>\n",
              "      <th>total_cloud_cover (0-1)</th>\n",
              "    </tr>\n",
              "  </thead>\n",
              "  <tbody>\n",
              "    <tr>\n",
              "      <th>0</th>\n",
              "      <td>2010-01-01 00:00:00</td>\n",
              "      <td>(-37.91, 145.13)</td>\n",
              "      <td>era5</td>\n",
              "      <td>69.59</td>\n",
              "      <td>10.0</td>\n",
              "      <td>18.26</td>\n",
              "      <td>16.39</td>\n",
              "      <td>2.60</td>\n",
              "      <td>101046.38</td>\n",
              "      <td>0.89</td>\n",
              "      <td>287.01</td>\n",
              "      <td>408.35</td>\n",
              "      <td>1.0</td>\n",
              "    </tr>\n",
              "    <tr>\n",
              "      <th>1</th>\n",
              "      <td>2010-01-01 01:00:00</td>\n",
              "      <td>(-37.91, 145.13)</td>\n",
              "      <td>era5</td>\n",
              "      <td>69.59</td>\n",
              "      <td>10.0</td>\n",
              "      <td>18.67</td>\n",
              "      <td>16.29</td>\n",
              "      <td>2.91</td>\n",
              "      <td>101037.96</td>\n",
              "      <td>0.86</td>\n",
              "      <td>360.79</td>\n",
              "      <td>411.02</td>\n",
              "      <td>1.0</td>\n",
              "    </tr>\n",
              "    <tr>\n",
              "      <th>2</th>\n",
              "      <td>2010-01-01 02:00:00</td>\n",
              "      <td>(-37.91, 145.13)</td>\n",
              "      <td>era5</td>\n",
              "      <td>69.59</td>\n",
              "      <td>10.0</td>\n",
              "      <td>18.16</td>\n",
              "      <td>15.89</td>\n",
              "      <td>3.26</td>\n",
              "      <td>101017.26</td>\n",
              "      <td>0.87</td>\n",
              "      <td>291.54</td>\n",
              "      <td>410.67</td>\n",
              "      <td>1.0</td>\n",
              "    </tr>\n",
              "    <tr>\n",
              "      <th>3</th>\n",
              "      <td>2010-01-01 03:00:00</td>\n",
              "      <td>(-37.91, 145.13)</td>\n",
              "      <td>era5</td>\n",
              "      <td>69.59</td>\n",
              "      <td>10.0</td>\n",
              "      <td>18.46</td>\n",
              "      <td>15.33</td>\n",
              "      <td>3.17</td>\n",
              "      <td>101022.56</td>\n",
              "      <td>0.82</td>\n",
              "      <td>357.11</td>\n",
              "      <td>410.95</td>\n",
              "      <td>1.0</td>\n",
              "    </tr>\n",
              "    <tr>\n",
              "      <th>4</th>\n",
              "      <td>2010-01-01 04:00:00</td>\n",
              "      <td>(-37.91, 145.13)</td>\n",
              "      <td>era5</td>\n",
              "      <td>69.59</td>\n",
              "      <td>10.0</td>\n",
              "      <td>18.53</td>\n",
              "      <td>15.11</td>\n",
              "      <td>2.95</td>\n",
              "      <td>100940.03</td>\n",
              "      <td>0.80</td>\n",
              "      <td>459.91</td>\n",
              "      <td>410.00</td>\n",
              "      <td>0.9</td>\n",
              "    </tr>\n",
              "  </tbody>\n",
              "</table>\n",
              "</div>"
            ],
            "text/plain": [
              "       datetime (UTC)  ... total_cloud_cover (0-1)\n",
              "0 2010-01-01 00:00:00  ...                     1.0\n",
              "1 2010-01-01 01:00:00  ...                     1.0\n",
              "2 2010-01-01 02:00:00  ...                     1.0\n",
              "3 2010-01-01 03:00:00  ...                     1.0\n",
              "4 2010-01-01 04:00:00  ...                     0.9\n",
              "\n",
              "[5 rows x 13 columns]"
            ]
          },
          "metadata": {},
          "execution_count": 176
        }
      ]
    },
    {
      "cell_type": "code",
      "metadata": {
        "id": "UwowWhZGWDhj"
      },
      "source": [
        "#Lets rename some columns\n",
        "df = df.rename(columns={'datetime (UTC)':'Date Time',\n",
        "                                 'coordinates (lat,lon)':'coordinates',\n",
        "                                  'model (name)':'model',\n",
        "                                  'model elevation (surface)':'model elevation'\n",
        "                                  ,'utc_offset (hrs)':'utc',\n",
        "                                   'temperature (degC)':'Temperature',\n",
        "                                   'dewpoint_temperature (degC)':'Temperature(dw)',\n",
        "                                   'wind_speed (m/s)':'Wind Speed',\n",
        "                                   'mean_sea_level_pressure (Pa)':'Pressure',\n",
        "                                   'relative_humidity ((0-1))':'Relative Humidity',\n",
        "                                  'surface_solar_radiation (W/m^2)':'Solar Radiation',\n",
        "                                  'surface_thermal_radiation (W/m^2)':'Thermal Radiation',\n",
        "                                  'total_cloud_cover (0-1)':'Total Cloud Cover'\n",
        "                                  })\n",
        "#drop some unnecessary columns\n",
        "df.drop(columns=['coordinates','model','model elevation','utc'], axis=1, inplace=True)\n",
        "df.index = df['Date Time']\n",
        "df['Pressure'] = df['Pressure'].apply(lambda x: x*0.01)"
      ],
      "execution_count": 177,
      "outputs": []
    },
    {
      "cell_type": "markdown",
      "metadata": {
        "id": "DS2vEatKV93B"
      },
      "source": [
        "\n",
        "\n",
        "```\n",
        "# This is formatted as code\n",
        "```\n",
        "\n"
      ]
    },
    {
      "cell_type": "code",
      "metadata": {
        "colab": {
          "base_uri": "https://localhost:8080/",
          "height": 342
        },
        "id": "t5sZY74bWHRO",
        "outputId": "7ce43595-14e2-45de-ed7f-3801801859f1"
      },
      "source": [
        "df.head()"
      ],
      "execution_count": 178,
      "outputs": [
        {
          "output_type": "execute_result",
          "data": {
            "text/html": [
              "<div>\n",
              "<style scoped>\n",
              "    .dataframe tbody tr th:only-of-type {\n",
              "        vertical-align: middle;\n",
              "    }\n",
              "\n",
              "    .dataframe tbody tr th {\n",
              "        vertical-align: top;\n",
              "    }\n",
              "\n",
              "    .dataframe thead th {\n",
              "        text-align: right;\n",
              "    }\n",
              "</style>\n",
              "<table border=\"1\" class=\"dataframe\">\n",
              "  <thead>\n",
              "    <tr style=\"text-align: right;\">\n",
              "      <th></th>\n",
              "      <th>Date Time</th>\n",
              "      <th>Temperature</th>\n",
              "      <th>Temperature(dw)</th>\n",
              "      <th>Wind Speed</th>\n",
              "      <th>Pressure</th>\n",
              "      <th>Relative Humidity</th>\n",
              "      <th>Solar Radiation</th>\n",
              "      <th>Thermal Radiation</th>\n",
              "      <th>Total Cloud Cover</th>\n",
              "    </tr>\n",
              "    <tr>\n",
              "      <th>Date Time</th>\n",
              "      <th></th>\n",
              "      <th></th>\n",
              "      <th></th>\n",
              "      <th></th>\n",
              "      <th></th>\n",
              "      <th></th>\n",
              "      <th></th>\n",
              "      <th></th>\n",
              "      <th></th>\n",
              "    </tr>\n",
              "  </thead>\n",
              "  <tbody>\n",
              "    <tr>\n",
              "      <th>2010-01-01 00:00:00</th>\n",
              "      <td>2010-01-01 00:00:00</td>\n",
              "      <td>18.26</td>\n",
              "      <td>16.39</td>\n",
              "      <td>2.60</td>\n",
              "      <td>1010.4638</td>\n",
              "      <td>0.89</td>\n",
              "      <td>287.01</td>\n",
              "      <td>408.35</td>\n",
              "      <td>1.0</td>\n",
              "    </tr>\n",
              "    <tr>\n",
              "      <th>2010-01-01 01:00:00</th>\n",
              "      <td>2010-01-01 01:00:00</td>\n",
              "      <td>18.67</td>\n",
              "      <td>16.29</td>\n",
              "      <td>2.91</td>\n",
              "      <td>1010.3796</td>\n",
              "      <td>0.86</td>\n",
              "      <td>360.79</td>\n",
              "      <td>411.02</td>\n",
              "      <td>1.0</td>\n",
              "    </tr>\n",
              "    <tr>\n",
              "      <th>2010-01-01 02:00:00</th>\n",
              "      <td>2010-01-01 02:00:00</td>\n",
              "      <td>18.16</td>\n",
              "      <td>15.89</td>\n",
              "      <td>3.26</td>\n",
              "      <td>1010.1726</td>\n",
              "      <td>0.87</td>\n",
              "      <td>291.54</td>\n",
              "      <td>410.67</td>\n",
              "      <td>1.0</td>\n",
              "    </tr>\n",
              "    <tr>\n",
              "      <th>2010-01-01 03:00:00</th>\n",
              "      <td>2010-01-01 03:00:00</td>\n",
              "      <td>18.46</td>\n",
              "      <td>15.33</td>\n",
              "      <td>3.17</td>\n",
              "      <td>1010.2256</td>\n",
              "      <td>0.82</td>\n",
              "      <td>357.11</td>\n",
              "      <td>410.95</td>\n",
              "      <td>1.0</td>\n",
              "    </tr>\n",
              "    <tr>\n",
              "      <th>2010-01-01 04:00:00</th>\n",
              "      <td>2010-01-01 04:00:00</td>\n",
              "      <td>18.53</td>\n",
              "      <td>15.11</td>\n",
              "      <td>2.95</td>\n",
              "      <td>1009.4003</td>\n",
              "      <td>0.80</td>\n",
              "      <td>459.91</td>\n",
              "      <td>410.00</td>\n",
              "      <td>0.9</td>\n",
              "    </tr>\n",
              "  </tbody>\n",
              "</table>\n",
              "</div>"
            ],
            "text/plain": [
              "                              Date Time  ...  Total Cloud Cover\n",
              "Date Time                                ...                   \n",
              "2010-01-01 00:00:00 2010-01-01 00:00:00  ...                1.0\n",
              "2010-01-01 01:00:00 2010-01-01 01:00:00  ...                1.0\n",
              "2010-01-01 02:00:00 2010-01-01 02:00:00  ...                1.0\n",
              "2010-01-01 03:00:00 2010-01-01 03:00:00  ...                1.0\n",
              "2010-01-01 04:00:00 2010-01-01 04:00:00  ...                0.9\n",
              "\n",
              "[5 rows x 9 columns]"
            ]
          },
          "metadata": {},
          "execution_count": 178
        }
      ]
    },
    {
      "cell_type": "code",
      "metadata": {
        "id": "7H92AaIqWJQU",
        "colab": {
          "base_uri": "https://localhost:8080/",
          "height": 455
        },
        "outputId": "b2614987-ee33-436f-e6c9-df2deb6386f8"
      },
      "source": [
        "features_considered = ['Temperature']\n",
        "df = df[features_considered]\n",
        "# df.index = df['Date Time']\n",
        "df.head()\n",
        "df = df[['Temperature']]\n",
        "df"
      ],
      "execution_count": 179,
      "outputs": [
        {
          "output_type": "execute_result",
          "data": {
            "text/html": [
              "<div>\n",
              "<style scoped>\n",
              "    .dataframe tbody tr th:only-of-type {\n",
              "        vertical-align: middle;\n",
              "    }\n",
              "\n",
              "    .dataframe tbody tr th {\n",
              "        vertical-align: top;\n",
              "    }\n",
              "\n",
              "    .dataframe thead th {\n",
              "        text-align: right;\n",
              "    }\n",
              "</style>\n",
              "<table border=\"1\" class=\"dataframe\">\n",
              "  <thead>\n",
              "    <tr style=\"text-align: right;\">\n",
              "      <th></th>\n",
              "      <th>Temperature</th>\n",
              "    </tr>\n",
              "    <tr>\n",
              "      <th>Date Time</th>\n",
              "      <th></th>\n",
              "    </tr>\n",
              "  </thead>\n",
              "  <tbody>\n",
              "    <tr>\n",
              "      <th>2010-01-01 00:00:00</th>\n",
              "      <td>18.26</td>\n",
              "    </tr>\n",
              "    <tr>\n",
              "      <th>2010-01-01 01:00:00</th>\n",
              "      <td>18.67</td>\n",
              "    </tr>\n",
              "    <tr>\n",
              "      <th>2010-01-01 02:00:00</th>\n",
              "      <td>18.16</td>\n",
              "    </tr>\n",
              "    <tr>\n",
              "      <th>2010-01-01 03:00:00</th>\n",
              "      <td>18.46</td>\n",
              "    </tr>\n",
              "    <tr>\n",
              "      <th>2010-01-01 04:00:00</th>\n",
              "      <td>18.53</td>\n",
              "    </tr>\n",
              "    <tr>\n",
              "      <th>...</th>\n",
              "      <td>...</td>\n",
              "    </tr>\n",
              "    <tr>\n",
              "      <th>2021-05-31 20:00:00</th>\n",
              "      <td>8.31</td>\n",
              "    </tr>\n",
              "    <tr>\n",
              "      <th>2021-05-31 21:00:00</th>\n",
              "      <td>8.15</td>\n",
              "    </tr>\n",
              "    <tr>\n",
              "      <th>2021-05-31 22:00:00</th>\n",
              "      <td>8.72</td>\n",
              "    </tr>\n",
              "    <tr>\n",
              "      <th>2021-05-31 23:00:00</th>\n",
              "      <td>9.83</td>\n",
              "    </tr>\n",
              "    <tr>\n",
              "      <th>2021-06-01 00:00:00</th>\n",
              "      <td>10.73</td>\n",
              "    </tr>\n",
              "  </tbody>\n",
              "</table>\n",
              "<p>100057 rows × 1 columns</p>\n",
              "</div>"
            ],
            "text/plain": [
              "                     Temperature\n",
              "Date Time                       \n",
              "2010-01-01 00:00:00        18.26\n",
              "2010-01-01 01:00:00        18.67\n",
              "2010-01-01 02:00:00        18.16\n",
              "2010-01-01 03:00:00        18.46\n",
              "2010-01-01 04:00:00        18.53\n",
              "...                          ...\n",
              "2021-05-31 20:00:00         8.31\n",
              "2021-05-31 21:00:00         8.15\n",
              "2021-05-31 22:00:00         8.72\n",
              "2021-05-31 23:00:00         9.83\n",
              "2021-06-01 00:00:00        10.73\n",
              "\n",
              "[100057 rows x 1 columns]"
            ]
          },
          "metadata": {},
          "execution_count": 179
        }
      ]
    },
    {
      "cell_type": "code",
      "metadata": {
        "id": "Nj7b0d_oeduA"
      },
      "source": [
        ""
      ],
      "execution_count": 179,
      "outputs": []
    },
    {
      "cell_type": "code",
      "metadata": {
        "id": "uASfV7QrWa4s"
      },
      "source": [
        "\n"
      ],
      "execution_count": 179,
      "outputs": []
    },
    {
      "cell_type": "code",
      "metadata": {
        "id": "f1qo0HdmWlDC",
        "colab": {
          "base_uri": "https://localhost:8080/",
          "height": 514
        },
        "outputId": "afd9e732-8e57-43f9-cf80-df9c158e8a7d"
      },
      "source": [
        "df.columns = ['Temperature']\n",
        "df.plot(figsize=(12,8))"
      ],
      "execution_count": 180,
      "outputs": [
        {
          "output_type": "execute_result",
          "data": {
            "text/plain": [
              "<matplotlib.axes._subplots.AxesSubplot at 0x7f7e95c01290>"
            ]
          },
          "metadata": {},
          "execution_count": 180
        },
        {
          "output_type": "display_data",
          "data": {
            "image/png": "[encoded data removed]",
            "text/plain": [
              "<Figure size 864x576 with 1 Axes>"
            ]
          },
          "metadata": {
            "needs_background": "light"
          }
        }
      ]
    },
    {
      "cell_type": "code",
      "metadata": {
        "colab": {
          "base_uri": "https://localhost:8080/",
          "height": 237
        },
        "id": "CPgk7DrMaxnd",
        "outputId": "decd92bb-7708-43bd-ac23-a5ec3ede7464"
      },
      "source": [
        "df['Temperature_Past1Hour'] = df['Temperature'].shift(+1)\n",
        "df['Temperature_Past2Hour'] = df['Temperature'].shift(+2)\n",
        "df['Temperature_Past3Hour'] = df['Temperature'].shift(+3)\n",
        "\n",
        "df.head()\n"
      ],
      "execution_count": 182,
      "outputs": [
        {
          "output_type": "execute_result",
          "data": {
            "text/html": [
              "<div>\n",
              "<style scoped>\n",
              "    .dataframe tbody tr th:only-of-type {\n",
              "        vertical-align: middle;\n",
              "    }\n",
              "\n",
              "    .dataframe tbody tr th {\n",
              "        vertical-align: top;\n",
              "    }\n",
              "\n",
              "    .dataframe thead th {\n",
              "        text-align: right;\n",
              "    }\n",
              "</style>\n",
              "<table border=\"1\" class=\"dataframe\">\n",
              "  <thead>\n",
              "    <tr style=\"text-align: right;\">\n",
              "      <th></th>\n",
              "      <th>Temperature</th>\n",
              "      <th>Temperature_Past1Hour</th>\n",
              "      <th>Temperature_Past2Hour</th>\n",
              "      <th>Temperature_Past3Hour</th>\n",
              "    </tr>\n",
              "    <tr>\n",
              "      <th>Date Time</th>\n",
              "      <th></th>\n",
              "      <th></th>\n",
              "      <th></th>\n",
              "      <th></th>\n",
              "    </tr>\n",
              "  </thead>\n",
              "  <tbody>\n",
              "    <tr>\n",
              "      <th>2010-01-01 00:00:00</th>\n",
              "      <td>18.26</td>\n",
              "      <td>NaN</td>\n",
              "      <td>NaN</td>\n",
              "      <td>NaN</td>\n",
              "    </tr>\n",
              "    <tr>\n",
              "      <th>2010-01-01 01:00:00</th>\n",
              "      <td>18.67</td>\n",
              "      <td>18.26</td>\n",
              "      <td>NaN</td>\n",
              "      <td>NaN</td>\n",
              "    </tr>\n",
              "    <tr>\n",
              "      <th>2010-01-01 02:00:00</th>\n",
              "      <td>18.16</td>\n",
              "      <td>18.67</td>\n",
              "      <td>18.26</td>\n",
              "      <td>NaN</td>\n",
              "    </tr>\n",
              "    <tr>\n",
              "      <th>2010-01-01 03:00:00</th>\n",
              "      <td>18.46</td>\n",
              "      <td>18.16</td>\n",
              "      <td>18.67</td>\n",
              "      <td>18.26</td>\n",
              "    </tr>\n",
              "    <tr>\n",
              "      <th>2010-01-01 04:00:00</th>\n",
              "      <td>18.53</td>\n",
              "      <td>18.46</td>\n",
              "      <td>18.16</td>\n",
              "      <td>18.67</td>\n",
              "    </tr>\n",
              "  </tbody>\n",
              "</table>\n",
              "</div>"
            ],
            "text/plain": [
              "                     Temperature  ...  Temperature_Past3Hour\n",
              "Date Time                         ...                       \n",
              "2010-01-01 00:00:00        18.26  ...                    NaN\n",
              "2010-01-01 01:00:00        18.67  ...                    NaN\n",
              "2010-01-01 02:00:00        18.16  ...                    NaN\n",
              "2010-01-01 03:00:00        18.46  ...                  18.26\n",
              "2010-01-01 04:00:00        18.53  ...                  18.67\n",
              "\n",
              "[5 rows x 4 columns]"
            ]
          },
          "metadata": {},
          "execution_count": 182
        }
      ]
    },
    {
      "cell_type": "code",
      "metadata": {
        "colab": {
          "base_uri": "https://localhost:8080/",
          "height": 455
        },
        "id": "r_nTuJ9uaNa5",
        "outputId": "20279d9b-5865-4c59-f375-2361b01d48da"
      },
      "source": [
        "df= df.dropna()\n",
        "df"
      ],
      "execution_count": 184,
      "outputs": [
        {
          "output_type": "execute_result",
          "data": {
            "text/html": [
              "<div>\n",
              "<style scoped>\n",
              "    .dataframe tbody tr th:only-of-type {\n",
              "        vertical-align: middle;\n",
              "    }\n",
              "\n",
              "    .dataframe tbody tr th {\n",
              "        vertical-align: top;\n",
              "    }\n",
              "\n",
              "    .dataframe thead th {\n",
              "        text-align: right;\n",
              "    }\n",
              "</style>\n",
              "<table border=\"1\" class=\"dataframe\">\n",
              "  <thead>\n",
              "    <tr style=\"text-align: right;\">\n",
              "      <th></th>\n",
              "      <th>Temperature</th>\n",
              "      <th>Temperature_Past1Hour</th>\n",
              "      <th>Temperature_Past2Hour</th>\n",
              "      <th>Temperature_Past3Hour</th>\n",
              "    </tr>\n",
              "    <tr>\n",
              "      <th>Date Time</th>\n",
              "      <th></th>\n",
              "      <th></th>\n",
              "      <th></th>\n",
              "      <th></th>\n",
              "    </tr>\n",
              "  </thead>\n",
              "  <tbody>\n",
              "    <tr>\n",
              "      <th>2010-01-01 03:00:00</th>\n",
              "      <td>18.46</td>\n",
              "      <td>18.16</td>\n",
              "      <td>18.67</td>\n",
              "      <td>18.26</td>\n",
              "    </tr>\n",
              "    <tr>\n",
              "      <th>2010-01-01 04:00:00</th>\n",
              "      <td>18.53</td>\n",
              "      <td>18.46</td>\n",
              "      <td>18.16</td>\n",
              "      <td>18.67</td>\n",
              "    </tr>\n",
              "    <tr>\n",
              "      <th>2010-01-01 05:00:00</th>\n",
              "      <td>18.92</td>\n",
              "      <td>18.53</td>\n",
              "      <td>18.46</td>\n",
              "      <td>18.16</td>\n",
              "    </tr>\n",
              "    <tr>\n",
              "      <th>2010-01-01 06:00:00</th>\n",
              "      <td>19.22</td>\n",
              "      <td>18.92</td>\n",
              "      <td>18.53</td>\n",
              "      <td>18.46</td>\n",
              "    </tr>\n",
              "    <tr>\n",
              "      <th>2010-01-01 07:00:00</th>\n",
              "      <td>19.41</td>\n",
              "      <td>19.22</td>\n",
              "      <td>18.92</td>\n",
              "      <td>18.53</td>\n",
              "    </tr>\n",
              "    <tr>\n",
              "      <th>...</th>\n",
              "      <td>...</td>\n",
              "      <td>...</td>\n",
              "      <td>...</td>\n",
              "      <td>...</td>\n",
              "    </tr>\n",
              "    <tr>\n",
              "      <th>2021-05-31 20:00:00</th>\n",
              "      <td>8.31</td>\n",
              "      <td>8.33</td>\n",
              "      <td>8.65</td>\n",
              "      <td>9.01</td>\n",
              "    </tr>\n",
              "    <tr>\n",
              "      <th>2021-05-31 21:00:00</th>\n",
              "      <td>8.15</td>\n",
              "      <td>8.31</td>\n",
              "      <td>8.33</td>\n",
              "      <td>8.65</td>\n",
              "    </tr>\n",
              "    <tr>\n",
              "      <th>2021-05-31 22:00:00</th>\n",
              "      <td>8.72</td>\n",
              "      <td>8.15</td>\n",
              "      <td>8.31</td>\n",
              "      <td>8.33</td>\n",
              "    </tr>\n",
              "    <tr>\n",
              "      <th>2021-05-31 23:00:00</th>\n",
              "      <td>9.83</td>\n",
              "      <td>8.72</td>\n",
              "      <td>8.15</td>\n",
              "      <td>8.31</td>\n",
              "    </tr>\n",
              "    <tr>\n",
              "      <th>2021-06-01 00:00:00</th>\n",
              "      <td>10.73</td>\n",
              "      <td>9.83</td>\n",
              "      <td>8.72</td>\n",
              "      <td>8.15</td>\n",
              "    </tr>\n",
              "  </tbody>\n",
              "</table>\n",
              "<p>100054 rows × 4 columns</p>\n",
              "</div>"
            ],
            "text/plain": [
              "                     Temperature  ...  Temperature_Past3Hour\n",
              "Date Time                         ...                       \n",
              "2010-01-01 03:00:00        18.46  ...                  18.26\n",
              "2010-01-01 04:00:00        18.53  ...                  18.67\n",
              "2010-01-01 05:00:00        18.92  ...                  18.16\n",
              "2010-01-01 06:00:00        19.22  ...                  18.46\n",
              "2010-01-01 07:00:00        19.41  ...                  18.53\n",
              "...                          ...  ...                    ...\n",
              "2021-05-31 20:00:00         8.31  ...                   9.01\n",
              "2021-05-31 21:00:00         8.15  ...                   8.65\n",
              "2021-05-31 22:00:00         8.72  ...                   8.33\n",
              "2021-05-31 23:00:00         9.83  ...                   8.31\n",
              "2021-06-01 00:00:00        10.73  ...                   8.15\n",
              "\n",
              "[100054 rows x 4 columns]"
            ]
          },
          "metadata": {},
          "execution_count": 184
        }
      ]
    },
    {
      "cell_type": "code",
      "metadata": {
        "colab": {
          "base_uri": "https://localhost:8080/"
        },
        "id": "4gK91roaXHa4",
        "outputId": "08ca7b86-576d-4b81-93a3-4ecc5b9fd691"
      },
      "source": [
        "import numpy as np\n",
        "x1,x2,x3,y = df['Temperature_Past1Hour'],df['Temperature_Past2Hour'],df['Temperature_Past3Hour'],df['Temperature']\n",
        "x1,x2,x3,y = np.array(x1),np.array(x2),np.array(x3),np.array(y)\n",
        "x1,x2,x3,y = x1.reshape(-1,1),x2.reshape(-1,1),x3.reshape(-1,1),y.reshape(-1,1)\n",
        "final_x = np.concatenate((x1,x2,x3),axis=1)\n",
        "print(final_x)"
      ],
      "execution_count": 186,
      "outputs": [
        {
          "output_type": "stream",
          "name": "stdout",
          "text": [
            "[[18.16 18.67 18.26]\n",
            " [18.46 18.16 18.67]\n",
            " [18.53 18.46 18.16]\n",
            " ...\n",
            " [ 8.15  8.31  8.33]\n",
            " [ 8.72  8.15  8.31]\n",
            " [ 9.83  8.72  8.15]]\n"
          ]
        }
      ]
    },
    {
      "cell_type": "code",
      "metadata": {
        "id": "yCFh0mREYGYN"
      },
      "source": [
        "#X_train,X_test,y_train,y_test = final_x[:71540],final_x[71540:],y[:71540],y[71540:]\n",
        "X_train,X_test,y_train,y_test = final_x[:-30],final_x[-30:],y[:-30],y[-30:]"
      ],
      "execution_count": 195,
      "outputs": []
    },
    {
      "cell_type": "code",
      "metadata": {
        "colab": {
          "base_uri": "https://localhost:8080/"
        },
        "id": "91hrXofCYwie",
        "outputId": "d9552fc1-fe1c-4ce9-f948-caa112ecfb7b"
      },
      "source": [
        "X_train.shape,X_test.shape,y_train.shape,y_test.shape"
      ],
      "execution_count": 196,
      "outputs": [
        {
          "output_type": "execute_result",
          "data": {
            "text/plain": [
              "((100024, 3), (30, 3), (100024, 1), (30, 1))"
            ]
          },
          "metadata": {},
          "execution_count": 196
        }
      ]
    },
    {
      "cell_type": "code",
      "metadata": {
        "id": "5hBHkSOTcLF3"
      },
      "source": [
        "from sklearn.ensemble import RandomForestRegressor\n",
        "model = RandomForestRegressor(n_estimators=100,max_features=3,random_state=1)"
      ],
      "execution_count": 197,
      "outputs": []
    },
    {
      "cell_type": "code",
      "metadata": {
        "colab": {
          "base_uri": "https://localhost:8080/"
        },
        "id": "i7hVQOOOclaI",
        "outputId": "234a8018-d85e-4d00-beb6-3a4c22daf965"
      },
      "source": [
        "model.fit(X_train,y_train)"
      ],
      "execution_count": 198,
      "outputs": [
        {
          "output_type": "stream",
          "name": "stderr",
          "text": [
            "/usr/local/lib/python3.7/dist-packages/ipykernel_launcher.py:1: DataConversionWarning: A column-vector y was passed when a 1d array was expected. Please change the shape of y to (n_samples,), for example using ravel().\n",
            "  \"\"\"Entry point for launching an IPython kernel.\n"
          ]
        },
        {
          "output_type": "execute_result",
          "data": {
            "text/plain": [
              "RandomForestRegressor(max_features=3, random_state=1)"
            ]
          },
          "metadata": {},
          "execution_count": 198
        }
      ]
    },
    {
      "cell_type": "code",
      "metadata": {
        "colab": {
          "base_uri": "https://localhost:8080/",
          "height": 483
        },
        "id": "ihy_B0__cySh",
        "outputId": "85305dc4-3400-4704-f076-1ead9324feba"
      },
      "source": [
        "pred = model.predict(X_test)\n",
        "import matplotlib.pyplot as plt\n",
        "plt.rcParams[\"figure.figsize\"] = (12,8)\n",
        "plt.plot(pred,label=\"Random Forest predictions\")\n",
        "plt.plot(y_test,label=\"Actual Temperatures\")\n",
        "plt.legend(loc=\"upper left\")\n",
        "plt.show()"
      ],
      "execution_count": 199,
      "outputs": [
        {
          "output_type": "display_data",
          "data": {
            "image/png": "[encoded data removed]",
            "text/plain": [
              "<Figure size 864x576 with 1 Axes>"
            ]
          },
          "metadata": {
            "needs_background": "light"
          }
        }
      ]
    },
    {
      "cell_type": "code",
      "metadata": {
        "id": "nHepa6LJdaUM"
      },
      "source": [
        "from sklearn.metrics import mean_squared_error\n",
        "from math import sqrt\n",
        "rmse = sqrt(mean_squared_error(pred,y_test))\n"
      ],
      "execution_count": 200,
      "outputs": []
    },
    {
      "cell_type": "code",
      "metadata": {
        "colab": {
          "base_uri": "https://localhost:8080/"
        },
        "id": "-GuvW9_Fhy47",
        "outputId": "f0afdeb5-c768-4b9c-a31f-bdfcb75825ee"
      },
      "source": [
        "print(\"Mean Squared Error for Random Forest Model is:\",rmse)"
      ],
      "execution_count": 201,
      "outputs": [
        {
          "output_type": "stream",
          "name": "stdout",
          "text": [
            "Mean Squared Error for Random Forest Model is: 0.7577093884421238\n"
          ]
        }
      ]
    },
    {
      "cell_type": "code",
      "metadata": {
        "id": "JOpeARZZh8Fg"
      },
      "source": [
        "#worked 3 hours (completed)"
      ],
      "execution_count": 202,
      "outputs": []
    },
    {
      "cell_type": "code",
      "metadata": {
        "id": "s07i7zDAZp8H"
      },
      "source": [
        ""
      ],
      "execution_count": null,
      "outputs": []
    }
  ]
}